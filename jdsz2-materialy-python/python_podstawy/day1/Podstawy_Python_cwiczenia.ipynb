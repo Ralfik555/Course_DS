{
 "cells": [
  {
   "cell_type": "markdown",
   "metadata": {},
   "source": [
    "<h2>Przeszukiwanie tekstu</h2>\n",
    "<p>Przy okazji zaznaczam, to jest sekcja pisana w jezyku HTML, po kliknęciu 2x widać dokładnie znaczniki<br>\n",
    "widać\n",
    "    że do\n",
    "    łamania linii<br>\n",
    "    potrzebny\n",
    "    jest specjalny znacznik\n",
    "</p>\n"
   ]
  },
  {
   "cell_type": "code",
   "execution_count": 1,
   "metadata": {},
   "outputs": [
    {
     "data": {
      "text/plain": [
       "'Ala ma kota'"
      ]
     },
     "execution_count": 1,
     "metadata": {},
     "output_type": "execute_result"
    }
   ],
   "source": [
    "\"Ala ma kota\""
   ]
  },
  {
   "cell_type": "markdown",
   "metadata": {},
   "source": [
    "<h3>Szukanie wystapień 'a'</h3>"
   ]
  },
  {
   "cell_type": "code",
   "execution_count": 2,
   "metadata": {},
   "outputs": [
    {
     "name": "stdout",
     "output_type": "stream",
     "text": [
      "Ala ma kota\n",
      "pierwsze a\n",
      "2\n",
      "drugie a - ograniczamy zakres\n",
      "a ma kota\n",
      "trzeba dodać 1, żeby pomniąć to co znaleźliśmy\n",
      " ma kota\n",
      "pozycja w nowym, okrojonym tekście\n",
      "2\n",
      "pozycja względem począktowego tesktu 'Ala ma kota'\n",
      "5\n",
      "trzecie a - organiczamy zakres\n",
      "a kota\n",
      "trzeba dodać 1 (czyli 2), żeby pomniąć to co znaleźliśmy\n",
      " kota\n",
      "pozycja w nowym, okrojonym tekście\n",
      "4\n",
      "pozycja względem począktowego tesktu 'Ala ma kota'\n",
      "10\n"
     ]
    }
   ],
   "source": [
    "print(\"Ala ma kota\")\n",
    "\n",
    "print(\"pierwsze a\")\n",
    "print(\"Ala ma kota\".find('a'))\n",
    "\n",
    "print(\"drugie a - ograniczamy zakres\")\n",
    "print(\"Ala ma kota\"[\"Ala ma kota\".find('a'):])\n",
    "print(\"trzeba dodać 1, żeby pomniąć to co znaleźliśmy\")\n",
    "print(\"Ala ma kota\"[\"Ala ma kota\".find('a')+1:])\n",
    "print(\"pozycja w nowym, okrojonym tekście\")\n",
    "print(\"Ala ma kota\"[\"Ala ma kota\".find('a')+1:].find('a'))\n",
    "print(\"pozycja względem począktowego tesktu 'Ala ma kota'\")\n",
    "print(\"Ala ma kota\"[\"Ala ma kota\".find('a')+1:].find('a') + \"Ala ma kota\".find('a') + 1)\n",
    "\n",
    "print(\"trzecie a - organiczamy zakres\")\n",
    "print(\"Ala ma kota\"[\"Ala ma kota\"[\"Ala ma kota\".find('a')+1:].find('a')+\"Ala ma kota\".find('a')+1:])\n",
    "print(\"trzeba dodać 1 (czyli 2), żeby pomniąć to co znaleźliśmy\")\n",
    "print(\"Ala ma kota\"[\"Ala ma kota\"[\"Ala ma kota\".find('a')+1:].find('a')+\"Ala ma kota\".find('a')+2:])\n",
    "print(\"pozycja w nowym, okrojonym tekście\")\n",
    "print(\"Ala ma kota\"[\"Ala ma kota\"[\"Ala ma kota\".find('a')+1:].find('a')+\"Ala ma kota\".find('a')+2:].find('a'))\n",
    "print(\"pozycja względem począktowego tesktu 'Ala ma kota'\")\n",
    "print(\"Ala ma kota\"[\"Ala ma kota\"[\"Ala ma kota\".find('a')+1:].find('a')+\"Ala ma kota\".find('a')+2:].find('a') + \"Ala ma kota\"[\"Ala ma kota\".find('a')+1:].find('a') + \"Ala ma kota\".find('a') + 2)"
   ]
  },
  {
   "cell_type": "markdown",
   "metadata": {},
   "source": [
    "<h3>To samo z użyciem zmiennych</h3>\n",
    "<p>Można się pokusić o zmianę napisu oraz liteki do wyszukiwania<br>we wcześniejszy, przypadku byłby z tym problem</p>"
   ]
  },
  {
   "cell_type": "code",
   "execution_count": 3,
   "metadata": {},
   "outputs": [
    {
     "name": "stdout",
     "output_type": "stream",
     "text": [
      "Ala ma kota\n",
      "pierwsze a\n",
      "-1\n",
      "drugie a - ograniczamy zakres\n",
      "a\n",
      "trzeba dodać 1, żeby pomniąć to co znaleźliśmy\n",
      "Ala ma kota\n",
      "pozycja w nowym, okrojonym tekście\n",
      "-1\n",
      "pozycja względem począktowego tesktu 'Ala ma kota'\n",
      "-1\n",
      "trzecie a - organiczamy zakres\n",
      "a\n",
      "trzeba dodać 1, żeby pomniąć to co znaleźliśmy\n",
      "Ala ma kota\n",
      "pozycja w nowym, okrojonym tekście\n",
      "-1\n",
      "pozycja względem począktowego tesktu 'Ala ma kota'\n",
      "-1\n"
     ]
    }
   ],
   "source": [
    "teskt = \"Ala ma kota\"\n",
    "a = 'a'\n",
    "print(teskt)\n",
    "\n",
    "print(\"pierwsze a\")\n",
    "pozycja_1 = teskt.find(a)\n",
    "print(pozycja_1)\n",
    "\n",
    "print(\"drugie a - ograniczamy zakres\")\n",
    "print(teskt[pozycja_1:])\n",
    "print(\"trzeba dodać 1, żeby pomniąć to co znaleźliśmy\")\n",
    "print(teskt[pozycja_1+1:])\n",
    "print(\"pozycja w nowym, okrojonym tekście\")\n",
    "pozycja_2 = teskt[pozycja_1+1:].find(a)\n",
    "print(pozycja_2)\n",
    "print(\"pozycja względem począktowego tesktu 'Ala ma kota'\")\n",
    "pozycja_2 = pozycja_1 + pozycja_2 + 1\n",
    "print(pozycja_2)\n",
    "\n",
    "print(\"trzecie a - organiczamy zakres\")\n",
    "print(teskt[pozycja_2:])\n",
    "print(\"trzeba dodać 1, żeby pomniąć to co znaleźliśmy\")\n",
    "print(teskt[pozycja_2+1:])\n",
    "print(\"pozycja w nowym, okrojonym tekście\")\n",
    "pozycja_3 = teskt[pozycja_2+1:].find(a)\n",
    "print(pozycja_3)\n",
    "print(\"pozycja względem począktowego tesktu 'Ala ma kota'\")\n",
    "pozycja_3 = pozycja_2 + pozycja_3 + 1\n",
    "print(pozycja_3)"
   ]
  },
  {
   "cell_type": "markdown",
   "metadata": {},
   "source": [
    "<h2>Szukanie drugiej największej liczby w zbiorze</h2>\n",
    "<h3>Łatwiejszy przypadek, gdy nie mamy duplikatów</h3> "
   ]
  },
  {
   "cell_type": "code",
   "execution_count": 13,
   "metadata": {},
   "outputs": [
    {
     "name": "stdout",
     "output_type": "stream",
     "text": [
      "[10, 100, 5, 17, 35, 48, 73, 15, 12]\n",
      "[5, 10, 12, 15, 17, 35, 48, 73, 100]\n"
     ]
    },
    {
     "data": {
      "text/plain": [
       "73"
      ]
     },
     "execution_count": 13,
     "metadata": {},
     "output_type": "execute_result"
    }
   ],
   "source": [
    "lista = [10, 100, 5, 17, 35, 48, 73, 15, 12]\n",
    "print(lista)\n",
    "lista.sort()\n",
    "print(lista)\n",
    "lista[-2]"
   ]
  },
  {
   "cell_type": "markdown",
   "metadata": {},
   "source": [
    "<h3>Trudniejszy przypadek</h3>\n",
    "<p>Dodajmy kilka największych elementów do listy (2 na koniec, 1 na pozycję 3)</p>"
   ]
  },
  {
   "cell_type": "code",
   "execution_count": 14,
   "metadata": {},
   "outputs": [
    {
     "name": "stdout",
     "output_type": "stream",
     "text": [
      "[5, 10, 12, 100, 15, 17, 35, 48, 73, 100, 100, 100]\n"
     ]
    }
   ],
   "source": [
    "lista.append(lista[-1])\n",
    "lista.append(lista[-1])\n",
    "lista.insert(3, lista[-1])\n",
    "print(lista)"
   ]
  },
  {
   "cell_type": "code",
   "execution_count": 15,
   "metadata": {},
   "outputs": [
    {
     "name": "stdout",
     "output_type": "stream",
     "text": [
      "[5, 10, 12, 15, 17, 35, 48, 73, 100, 100, 100, 100]\n"
     ]
    },
    {
     "data": {
      "text/plain": [
       "100"
      ]
     },
     "execution_count": 15,
     "metadata": {},
     "output_type": "execute_result"
    }
   ],
   "source": [
    "lista.sort()\n",
    "print(lista)\n",
    "lista[-2]"
   ]
  },
  {
   "cell_type": "markdown",
   "metadata": {},
   "source": [
    "<p><b>Nasz algorytm przestał działać!</b></p>\n",
    "<p>set (kolekcja) pomaga usunąć duplikaty, ale set nie ma indeksowania, więc trzeba wrócić do listy</p>"
   ]
  },
  {
   "cell_type": "code",
   "execution_count": 18,
   "metadata": {},
   "outputs": [
    {
     "name": "stdout",
     "output_type": "stream",
     "text": [
      "[5, 10, 12, 15, 17, 35, 48, 73, 100, 100, 100, 100]\n"
     ]
    },
    {
     "data": {
      "text/plain": [
       "73"
      ]
     },
     "execution_count": 18,
     "metadata": {},
     "output_type": "execute_result"
    }
   ],
   "source": [
    "kolekcja = set(lista)\n",
    "nowa_lista = list(kolekcja)\n",
    "nowa_lista.sort()\n",
    "print(lista)\n",
    "nowa_lista[-2]"
   ]
  }
 ],
 "metadata": {
  "kernelspec": {
   "display_name": "Python 3",
   "language": "python",
   "name": "python3"
  },
  "language_info": {
   "codemirror_mode": {
    "name": "ipython",
    "version": 3
   },
   "file_extension": ".py",
   "mimetype": "text/x-python",
   "name": "python",
   "nbconvert_exporter": "python",
   "pygments_lexer": "ipython3",
   "version": "3.6.6"
  }
 },
 "nbformat": 4,
 "nbformat_minor": 2
}
